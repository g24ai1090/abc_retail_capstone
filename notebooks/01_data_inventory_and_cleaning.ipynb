{
  "cells": [
    {
      "cell_type": "code",
      "execution_count": null,
      "metadata": {
        "colab": {
          "base_uri": "https://localhost:8080/"
        },
        "id": "Y0Ow2lx62lWl",
        "outputId": "35ad576f-c6ed-4cfa-819e-ec341f8a4309"
      },
      "outputs": [
        {
          "name": "stdout",
          "output_type": "stream",
          "text": [
            "Mounted at /content/drive\n"
          ]
        }
      ],
      "source": [
        "try:\n",
        "    from google.colab import drive\n",
        "    drive.mount('/content/drive')\n",
        "except ImportError:\n",
        "    pass"
      ]
    },
    {
      "cell_type": "code",
      "execution_count": null,
      "metadata": {
        "colab": {
          "base_uri": "https://localhost:8080/",
          "height": 510
        },
        "id": "asLm0GBR29_W",
        "outputId": "f7a9839c-42c9-4d23-a809-f114b588e100"
      },
      "outputs": [
        {
          "name": "stdout",
          "output_type": "stream",
          "text": [
            "(541909, 8)\n",
            "<class 'pandas.core.frame.DataFrame'>\n",
            "RangeIndex: 541909 entries, 0 to 541908\n",
            "Data columns (total 8 columns):\n",
            " #   Column       Non-Null Count   Dtype         \n",
            "---  ------       --------------   -----         \n",
            " 0   InvoiceNo    541909 non-null  object        \n",
            " 1   StockCode    541909 non-null  object        \n",
            " 2   Description  540455 non-null  object        \n",
            " 3   Quantity     541909 non-null  int64         \n",
            " 4   InvoiceDate  541909 non-null  datetime64[ns]\n",
            " 5   UnitPrice    541909 non-null  float64       \n",
            " 6   CustomerID   406829 non-null  float64       \n",
            " 7   Country      541909 non-null  object        \n",
            "dtypes: datetime64[ns](1), float64(2), int64(1), object(4)\n",
            "memory usage: 33.1+ MB\n",
            "None\n"
          ]
        },
        {
          "data": {
            "text/html": [
              "<div>\n",
              "<style scoped>\n",
              "    .dataframe tbody tr th:only-of-type {\n",
              "        vertical-align: middle;\n",
              "    }\n",
              "\n",
              "    .dataframe tbody tr th {\n",
              "        vertical-align: top;\n",
              "    }\n",
              "\n",
              "    .dataframe thead th {\n",
              "        text-align: right;\n",
              "    }\n",
              "</style>\n",
              "<table border=\"1\" class=\"dataframe\">\n",
              "  <thead>\n",
              "    <tr style=\"text-align: right;\">\n",
              "      <th></th>\n",
              "      <th>InvoiceNo</th>\n",
              "      <th>StockCode</th>\n",
              "      <th>Description</th>\n",
              "      <th>Quantity</th>\n",
              "      <th>InvoiceDate</th>\n",
              "      <th>UnitPrice</th>\n",
              "      <th>CustomerID</th>\n",
              "      <th>Country</th>\n",
              "    </tr>\n",
              "  </thead>\n",
              "  <tbody>\n",
              "    <tr>\n",
              "      <th>0</th>\n",
              "      <td>536365</td>\n",
              "      <td>85123A</td>\n",
              "      <td>WHITE HANGING HEART T-LIGHT HOLDER</td>\n",
              "      <td>6</td>\n",
              "      <td>2010-12-01 08:26:00</td>\n",
              "      <td>2.55</td>\n",
              "      <td>17850.0</td>\n",
              "      <td>United Kingdom</td>\n",
              "    </tr>\n",
              "    <tr>\n",
              "      <th>1</th>\n",
              "      <td>536365</td>\n",
              "      <td>71053</td>\n",
              "      <td>WHITE METAL LANTERN</td>\n",
              "      <td>6</td>\n",
              "      <td>2010-12-01 08:26:00</td>\n",
              "      <td>3.39</td>\n",
              "      <td>17850.0</td>\n",
              "      <td>United Kingdom</td>\n",
              "    </tr>\n",
              "    <tr>\n",
              "      <th>2</th>\n",
              "      <td>536365</td>\n",
              "      <td>84406B</td>\n",
              "      <td>CREAM CUPID HEARTS COAT HANGER</td>\n",
              "      <td>8</td>\n",
              "      <td>2010-12-01 08:26:00</td>\n",
              "      <td>2.75</td>\n",
              "      <td>17850.0</td>\n",
              "      <td>United Kingdom</td>\n",
              "    </tr>\n",
              "    <tr>\n",
              "      <th>3</th>\n",
              "      <td>536365</td>\n",
              "      <td>84029G</td>\n",
              "      <td>KNITTED UNION FLAG HOT WATER BOTTLE</td>\n",
              "      <td>6</td>\n",
              "      <td>2010-12-01 08:26:00</td>\n",
              "      <td>3.39</td>\n",
              "      <td>17850.0</td>\n",
              "      <td>United Kingdom</td>\n",
              "    </tr>\n",
              "    <tr>\n",
              "      <th>4</th>\n",
              "      <td>536365</td>\n",
              "      <td>84029E</td>\n",
              "      <td>RED WOOLLY HOTTIE WHITE HEART.</td>\n",
              "      <td>6</td>\n",
              "      <td>2010-12-01 08:26:00</td>\n",
              "      <td>3.39</td>\n",
              "      <td>17850.0</td>\n",
              "      <td>United Kingdom</td>\n",
              "    </tr>\n",
              "  </tbody>\n",
              "</table>\n",
              "</div>"
            ],
            "text/plain": [
              "  InvoiceNo StockCode                          Description  Quantity  \\\n",
              "0    536365    85123A   WHITE HANGING HEART T-LIGHT HOLDER         6   \n",
              "1    536365     71053                  WHITE METAL LANTERN         6   \n",
              "2    536365    84406B       CREAM CUPID HEARTS COAT HANGER         8   \n",
              "3    536365    84029G  KNITTED UNION FLAG HOT WATER BOTTLE         6   \n",
              "4    536365    84029E       RED WOOLLY HOTTIE WHITE HEART.         6   \n",
              "\n",
              "          InvoiceDate  UnitPrice  CustomerID         Country  \n",
              "0 2010-12-01 08:26:00       2.55     17850.0  United Kingdom  \n",
              "1 2010-12-01 08:26:00       3.39     17850.0  United Kingdom  \n",
              "2 2010-12-01 08:26:00       2.75     17850.0  United Kingdom  \n",
              "3 2010-12-01 08:26:00       3.39     17850.0  United Kingdom  \n",
              "4 2010-12-01 08:26:00       3.39     17850.0  United Kingdom  "
            ]
          },
          "execution_count": 4,
          "metadata": {},
          "output_type": "execute_result"
        }
      ],
      "source": [
        "import pandas as pd\n",
        "\n",
        "# Path to the file in Drive\n",
        "file_path = '/content/drive/My Drive/capstone_project/data/raw/OnlineRetail.xlsx'\n",
        "\n",
        "# Read it\n",
        "df = pd.read_excel(file_path)\n",
        "\n",
        "print(df.shape)\n",
        "print(df.info())\n",
        "df.describe()\n",
        "# Preview\n",
        "df.head()\n"
      ]
    },
    {
      "cell_type": "code",
      "execution_count": 5,
      "metadata": {
        "colab": {
          "base_uri": "https://localhost:8080/",
          "height": 335
        },
        "id": "xUGgxoIy4x9_",
        "outputId": "0ca59be6-03ea-4186-a84c-0d5f71b90825"
      },
      "outputs": [
        {
          "data": {
            "text/plain": [
              "InvoiceNo           0\n",
              "StockCode           0\n",
              "Description      1454\n",
              "Quantity            0\n",
              "InvoiceDate         0\n",
              "UnitPrice           0\n",
              "CustomerID     135080\n",
              "Country             0\n",
              "dtype: int64"
            ]
          },
          "execution_count": 5,
          "metadata": {},
          "output_type": "execute_result"
        }
      ],
      "source": [
        "df.isnull().sum()"
      ]
    },
    {
      "cell_type": "code",
      "execution_count": 6,
      "metadata": {
        "colab": {
          "base_uri": "https://localhost:8080/"
        },
        "id": "JWydaIhJ8xId",
        "outputId": "f3f09f5b-eb9c-4cd9-f7ae-c61e956c0880"
      },
      "outputs": [
        {
          "name": "stdout",
          "output_type": "stream",
          "text": [
            "\n",
            "--- Data Inventory Report ---\n",
            "\n",
            "Column         Data Type      Non-Null Count Unique Values  Sample Values\n",
            "InvoiceNo      object         541909         25900          [536365 536366 536367]\n",
            "StockCode      object         541909         4070           ['85123A' 71053 '84406B']\n",
            "Description    object         540455         4223           ['WHITE HANGING HEART T-LIGHT HOLDER' 'WHITE METAL LANTERN'\n",
            " 'CREAM CUPID HEARTS COAT HANGER']\n",
            "Quantity       int64          541909         722            N/A\n",
            "InvoiceDate    datetime64[ns] 541909         23260          N/A\n",
            "UnitPrice      float64        541909         1630           N/A\n",
            "CustomerID     float64        406829         4372           N/A\n",
            "Country        object         541909         38             ['United Kingdom' 'France' 'Australia']\n",
            "\n",
            "--- Missing Values Summary ---\n",
            "\n",
            "InvoiceNo           0\n",
            "StockCode           0\n",
            "Description      1454\n",
            "Quantity            0\n",
            "InvoiceDate         0\n",
            "UnitPrice           0\n",
            "CustomerID     135080\n",
            "Country             0\n",
            "dtype: int64\n",
            "\n",
            "Percentage Missing:\n",
            "InvoiceNo       0.00\n",
            "StockCode       0.00\n",
            "Description     0.27\n",
            "Quantity        0.00\n",
            "InvoiceDate     0.00\n",
            "UnitPrice       0.00\n",
            "CustomerID     24.93\n",
            "Country         0.00\n",
            "dtype: float64\n",
            "\n",
            "--- Data Validity Checks ---\n",
            "\n",
            "Negative Quantity count: 10624\n",
            "Zero or negative UnitPrice count: 2517\n",
            "Returns (InvoiceNo starting with 'C'): 9288\n"
          ]
        }
      ],
      "source": [
        "# Count missing values per column\n",
        "missing_counts = df.isnull().sum()\n",
        "missing_percent = (missing_counts / len(df)) * 100\n",
        "\n",
        "# Unique values count (only for object columns)\n",
        "unique_values = df.nunique()\n",
        "\n",
        "# Sample values: show top 3 unique values for object columns\n",
        "sample_values = {}\n",
        "for col in df.select_dtypes(include=['object']).columns:\n",
        "    sample_values[col] = df[col].dropna().unique()[:3]\n",
        "\n",
        "# Data types\n",
        "data_types = df.dtypes\n",
        "\n",
        "# Print the Data Inventory Table\n",
        "print(\"\\n--- Data Inventory Report ---\\n\")\n",
        "print(f\"{'Column':<15}{'Data Type':<15}{'Non-Null Count':<15}{'Unique Values':<15}{'Sample Values'}\")\n",
        "for col in df.columns:\n",
        "    dtype = str(data_types[col])\n",
        "    non_null = df[col].notnull().sum()\n",
        "    unique = unique_values[col] if col in unique_values else 'N/A'\n",
        "    samples = sample_values[col] if col in sample_values else 'N/A'\n",
        "    print(f\"{col:<15}{dtype:<15}{non_null:<15}{unique:<15}{samples}\")\n",
        "\n",
        "# Missing values summary\n",
        "print(\"\\n--- Missing Values Summary ---\\n\")\n",
        "print(missing_counts)\n",
        "print(\"\\nPercentage Missing:\")\n",
        "print(missing_percent.round(2))\n",
        "\n",
        "# Quick check on negative quantity or unit price\n",
        "print(\"\\n--- Data Validity Checks ---\\n\")\n",
        "print(f\"Negative Quantity count: {(df['Quantity'] < 0).sum()}\")\n",
        "print(f\"Zero or negative UnitPrice count: {(df['UnitPrice'] <= 0).sum()}\")\n",
        "\n",
        "# Check invoice numbers starting with 'C' (returns)\n",
        "returns = df['InvoiceNo'].astype(str).str.startswith('C').sum()\n",
        "print(f\"Returns (InvoiceNo starting with 'C'): {returns}\")\n"
      ]
    },
    {
      "cell_type": "markdown",
      "metadata": {
        "id": "m5BjpW_h5KWc"
      },
      "source": []
    },
    {
      "cell_type": "code",
      "execution_count": 7,
      "metadata": {
        "id": "RDb0Z_i15GBz"
      },
      "outputs": [],
      "source": [
        "#Drop missing Description rows:*italicised text*\n",
        "df = df[~df['Description'].isnull()]"
      ]
    },
    {
      "cell_type": "code",
      "execution_count": 8,
      "metadata": {
        "id": "1ASVbGps5LOH"
      },
      "outputs": [],
      "source": [
        "#Drop returns (optional, if focusing on net sales):\n",
        "df = df[~df['InvoiceNo'].astype(str).str.startswith('C')]"
      ]
    },
    {
      "cell_type": "code",
      "execution_count": 9,
      "metadata": {
        "id": "bjX9NeQO5a4g"
      },
      "outputs": [],
      "source": [
        "#filter invalid qty/price\n",
        "df = df[(df['Quantity'] > 0) & (df['UnitPrice'] > 0)]"
      ]
    },
    {
      "cell_type": "code",
      "execution_count": 10,
      "metadata": {
        "id": "9kTMBrak5gHs"
      },
      "outputs": [],
      "source": [
        "#drop duplicates\n",
        "df = df.drop_duplicates()\n"
      ]
    },
    {
      "cell_type": "code",
      "execution_count": 11,
      "metadata": {
        "id": "r8N8aiZv5lKw"
      },
      "outputs": [],
      "source": [
        "#clean product names\n",
        "df['Description'] = df['Description'].str.strip().str.upper()\n"
      ]
    },
    {
      "cell_type": "code",
      "execution_count": 12,
      "metadata": {
        "id": "3luyiHqq5qc5"
      },
      "outputs": [],
      "source": [
        "#add date related columns\n",
        "df['TotalPrice'] = df['Quantity'] * df['UnitPrice']\n",
        "df['InvoiceDate'] = pd.to_datetime(df['InvoiceDate'])  # in case it's not already\n",
        "\n",
        "df['InvoiceYear'] = df['InvoiceDate'].dt.year\n",
        "df['InvoiceMonth'] = df['InvoiceDate'].dt.month\n",
        "df['InvoiceDay'] = df['InvoiceDate'].dt.day\n",
        "df['Weekday'] = df['InvoiceDate'].dt.day_name()\n",
        "df['Hour'] = df['InvoiceDate'].dt.hour"
      ]
    },
    {
      "cell_type": "code",
      "execution_count": 13,
      "metadata": {},
      "outputs": [
        {
          "name": "stdout",
          "output_type": "stream",
          "text": [
            "Original shape: (524878, 14)\n",
            "Number of outliers in 'Quantity': 27111\n",
            "Number of outliers in 'UnitPrice': 37516\n",
            "Cleaned shape: (460251, 14)\n"
          ]
        }
      ],
      "source": [
        "def get_outliers_and_clean(df, column):\n",
        "    Q1 = df[column].quantile(0.25)\n",
        "    Q3 = df[column].quantile(0.75)\n",
        "    IQR = Q3 - Q1\n",
        "    lower = Q1 - 1.5 * IQR\n",
        "    upper = Q3 + 1.5 * IQR\n",
        "\n",
        "    # Identify outliers\n",
        "    outliers = df[(df[column] < lower) | (df[column] > upper)]\n",
        "    print(f\"Number of outliers in '{column}': {outliers.shape[0]}\")\n",
        "\n",
        "    # Remove outliers\n",
        "    df_cleaned = df[(df[column] >= lower) & (df[column] <= upper)]\n",
        "    return df_cleaned\n",
        "\n",
        "# Original shape before outlier removal\n",
        "print(\"Original shape:\", df.shape)\n",
        "\n",
        "# Clean Quantity outliers\n",
        "df = get_outliers_and_clean(df, 'Quantity')\n",
        "\n",
        "# Clean UnitPrice outliers\n",
        "df = get_outliers_and_clean(df, 'UnitPrice')\n",
        "\n",
        "# Shape after cleaning\n",
        "print(\"Cleaned shape:\", df.shape)"
      ]
    },
    {
      "cell_type": "code",
      "execution_count": 14,
      "metadata": {
        "vscode": {
          "languageId": "javascript"
        }
      },
      "outputs": [
        {
          "name": "stdout",
          "output_type": "stream",
          "text": [
            "Data Cleaning Log:\n",
            " {'original_shape': (541909, 8), 'after_duplicates': (460251, 14), 'outliers_removed': True, 'columns_added': ['TotalPrice', 'Year', 'Month', 'Weekday', 'Hour'], 'missing_values': {'InvoiceNo': 0, 'StockCode': 0, 'Description': 0, 'Quantity': 0, 'InvoiceDate': 0, 'UnitPrice': 0, 'CustomerID': 115551, 'Country': 0, 'TotalPrice': 0, 'InvoiceYear': 0, 'InvoiceMonth': 0, 'InvoiceDay': 0, 'Weekday': 0, 'Hour': 0}}\n"
          ]
        }
      ],
      "source": [
        "cleaning_log = {\n",
        "    'original_shape': (541909, 8),\n",
        "    'after_duplicates': df.drop_duplicates().shape,\n",
        "    'outliers_removed': True,\n",
        "    'columns_added': ['TotalPrice', 'Year', 'Month', 'Weekday', 'Hour'],\n",
        "    'missing_values': df.isnull().sum().to_dict()\n",
        "}\n",
        "print(\"Data Cleaning Log:\\n\", cleaning_log)"
      ]
    },
    {
      "cell_type": "code",
      "execution_count": null,
      "metadata": {
        "id": "PtBrDZYX53WN"
      },
      "outputs": [],
      "source": [
        "df.to_csv('/content/drive/My Drive/capstone_project/data/cleaned/online_retail_cleaned.csv', index=False)"
      ]
    }
  ],
  "metadata": {
    "colab": {
      "provenance": []
    },
    "kernelspec": {
      "display_name": "Python 3",
      "name": "python3"
    },
    "language_info": {
      "codemirror_mode": {
        "name": "ipython",
        "version": 3
      },
      "file_extension": ".py",
      "mimetype": "text/x-python",
      "name": "python",
      "nbconvert_exporter": "python",
      "pygments_lexer": "ipython3",
      "version": "3.13.3"
    }
  },
  "nbformat": 4,
  "nbformat_minor": 0
}
